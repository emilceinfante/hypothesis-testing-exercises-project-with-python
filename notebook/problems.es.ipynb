{
 "cells": [
  {
   "cell_type": "markdown",
   "id": "d9d036c6",
   "metadata": {},
   "source": [
    "# Problemas de prueba de hipótesis"
   ]
  },
  {
   "cell_type": "markdown",
   "id": "d157c4db",
   "metadata": {},
   "source": [
    "## Ejercicio 1\n",
    "\n",
    "Usted es un nutricionista que investiga dos tipos diferentes de dietas para ver si existe una diferencia significativa en la pérdida de peso después de un mes. Eliges dos grupos aleatorios de personas; un grupo sigue la primera dieta y el otro sigue la segunda. Al final del mes, se registra la pérdida de peso (en kg) de cada persona:\n",
    "\n",
    "| Diet 1 | Diet 2 |\n",
    "|:-------|:-------|\n",
    "| 2.0 | 3.0 |\n",
    "| 2.5 | 3.2 |\n",
    "| 3.0 | 3.1 |\n",
    "| 2.8 | 2.9 |\n",
    "| 2.3 | 2.8 |\n",
    "| 2.7 | 3.0 |\n",
    "| 2.5 | 3.2 |\n",
    "\n",
    "Con estos datos se busca responder a la siguiente pregunta: ¿Existe una diferencia significativa en la pérdida de peso promedio entre las personas que siguieron la primera dieta y las que siguieron la segunda dieta?\n",
    "\n",
    "Para sacar conclusiones, siga los siguientes puntos:\n",
    "\n",
    "-Enunciar la hipótesis: hipótesis nula y alternativa.\n",
    "-Realizar la prueba para comprobar la hipótesis. Puede utilizar la prueba t de Student.\n",
    "-Analizar las conclusiones."
   ]
  },
  {
   "cell_type": "code",
   "execution_count": 10,
   "id": "8e0f3cf0",
   "metadata": {},
   "outputs": [
    {
     "name": "stdout",
     "output_type": "stream",
     "text": [
      "t-value: -3.5383407969933938\n",
      "p-value: 0.004083270191713912\n",
      "Rechazamos la hipótesis nula: hay una diferencia significativa entre las dos dietas.\n"
     ]
    }
   ],
   "source": [
    "import scipy.stats as stats\n",
    "\n",
    "\"\"\"\n",
    "H0 = No hay  diferencia entre los pesos de ambas dietas\n",
    "H1 = Hay diferencia entre los pesos de ambas dietas\n",
    "\"\"\"\n",
    "\n",
    "\n",
    "\n",
    "dieta1 = [2.0, 2.5, 3.0, 2.8, 2.3, 2.7, 2.5]\n",
    "dieta2 = [3.0, 3.2, 3.1, 2.9, 2.8, 3.0, 3.2]\n",
    "\n",
    "# Aplicar la prueba t de Student\n",
    "t_value, p_value = stats.ttest_ind(dieta1, dieta2)\n",
    "\n",
    "print(f\"t-value: {t_value}\")\n",
    "print(f\"p-value: {p_value}\")\n",
    "\n",
    "# Interpretar el valor p\n",
    "alpha = 0.05\n",
    "if p_value < alpha:\n",
    "    print(\"Rechazamos la hipótesis nula: hay una diferencia significativa entre las dos dietas.\")\n",
    "else:\n",
    "    print(\"No rechazamos la hipótesis nula: no hay una diferencia significativa entre las dos dietas.\")\n"
   ]
  },
  {
   "cell_type": "markdown",
   "id": "f432e18e",
   "metadata": {},
   "source": [
    "## ANOVA\n",
    "\n",
    "**ANOVA** (*Analysis of Variance - Análisis de variación*) Es una técnica estadística utilizada para comparar las medidas de dos o más grupos. La idea detrás de ANOVA es descomponer la variabilidad total de los datos en dos componentes: variabilidad entre grupos y variabilidad dentro de los grupos:\n",
    "\n",
    "- **Variabilidad entre grupos**: Esta variabilidad se refiere a las diferencias entre las medias del grupo. Si esta variabilidad es considerablemente mayor que la variabilidad dentro del grupo, podría ser una indicación de que al menos una de las medias del grupo es diferente.\n",
    "- **Variabilidad dentro del grupo**: Esta variabilidad se refiere a la dispersión de los datos dentro de cada grupo. Si todos los grupos tienen una variabilidad similar, entonces cualquier diferencia notable en las medias de los grupos podría considerarse significativa.\n",
    "\n",
    "Las hipótesis en ANOVA suelen incluir:\n",
    "\n",
    "- **Hipótesis nula** ($H₀$): Las medias de todos los grupos son iguales.\n",
    "- **Hipótesis alternativa** ($H₁$): Al menos una de las medias del grupo es diferente.\n",
    "\n",
    "Si el resultado de la prueba ANOVA es significativo (por ejemplo, un valor p inferior a un umbral como 0,05), esto sugiere que al menos la media de un grupo es diferente."
   ]
  },
  {
   "cell_type": "markdown",
   "id": "fc5f3721",
   "metadata": {},
   "source": [
    "## Ejercicio 2\n",
    "\n",
    "Un agricultor decide probar tres tipos diferentes de fertilizantes para determinar si alguno es superior en términos de producción de maíz. El agricultor planta maíz en 15 parcelas idénticas y utiliza los tres fertilizantes (5 parcelas para cada tipo). Al final de la temporada mide el rendimiento de maíz (en kg) de cada parcela, con el siguiente resultado:\n",
    "\n",
    "| Fertilizante 1 | Fertilizante 2 | Fertilizante 3 |\n",
    "|:-------------|:-------------|:-------------|\n",
    "| 20 | 22 | 24 |\n",
    "| 21 | 21 | 23 |\n",
    "| 20 | 23 | 22 |\n",
    "| 19 | 22 | 23 |\n",
    "| 20 | 21 | 24 |\n",
    "\n",
    "Con estos datos busca responder la siguiente pregunta: ¿Existe una diferencia significativa en el rendimiento promedio del maíz entre los tres tipos de fertilizantes?\n",
    "\n",
    "Para ayudarte, sigue los siguientes puntos:\n",
    "\n",
    "-Enunciar la hipótesis: hipótesis nula y alternativa.\n",
    "-Realizar la prueba ANOVA.\n",
    "-Analizar las conclusiones.\n",
    "-Si un fertilizante es mejor que otro, ¿cómo podemos saberlo?"
   ]
  },
  {
   "cell_type": "code",
   "execution_count": 9,
   "id": "eecad0ca",
   "metadata": {},
   "outputs": [
    {
     "name": "stdout",
     "output_type": "stream",
     "text": [
      "f-value: 20.315789473684188\n",
      "p-value: 0.00014047824793190472\n",
      "Rechazamos la hipótesis nula: hay diferencias significativas entre al menos dos grupos.\n",
      "\n",
      "Resultados de la prueba post-hoc de Tukey:\n",
      "Multiple Comparison of Means - Tukey HSD, FWER=0.05\n",
      "==================================================\n",
      "group1 group2 meandiff p-adj  lower  upper  reject\n",
      "--------------------------------------------------\n",
      "     A      B      1.8 0.0099 0.4572 3.1428   True\n",
      "     A      C      3.2 0.0001 1.8572 4.5428   True\n",
      "     B      C      1.4 0.0409 0.0572 2.7428   True\n",
      "--------------------------------------------------\n"
     ]
    }
   ],
   "source": [
    "import numpy as np\n",
    "import pandas as pd\n",
    "from scipy import stats\n",
    "from statsmodels.stats.multicomp import pairwise_tukeyhsd\n",
    "\n",
    "\"\"\"\n",
    "H0 = No existe diferencia significativa en el rendimiento del maiz entre los tres fertilizantes\n",
    "H1 = Existe diferencia significativa en el rendimiento del maiz entre los tres fertilizantes\n",
    "\"\"\"\n",
    "\n",
    "fert1 = [20, 21, 20, 19, 20]\n",
    "fert2 = [22, 21, 23, 22, 21]\n",
    "fert3 = [24, 23, 22, 23, 24]\n",
    "\n",
    "#  DataFrame \n",
    "data = pd.DataFrame({'Fertilizante': ['A'] * len(fert1) + ['B'] * len(fert2) + ['C'] * len(fert3), 'Rendimiento': fert1 + fert2 + fert3})\n",
    "\n",
    "#  ANOVA\n",
    "f_value, p1_value = stats.f_oneway(data[data['Fertilizante'] == 'A']['Rendimiento'],\n",
    "                                  data[data['Fertilizante'] == 'B']['Rendimiento'],\n",
    "                                  data[data['Fertilizante'] == 'C']['Rendimiento'])\n",
    "\n",
    "\n",
    "print(f\"f-value: {f_value}\")\n",
    "print(f\"p-value: {p1_value}\")\n",
    "\n",
    "# Conclusion\n",
    "alpha = 0.05\n",
    "if p_value < alpha:\n",
    "    print(\"Rechazamos la hipótesis nula: hay diferencias significativas entre al menos dos grupos.\")\n",
    "    \n",
    "    # Realizar la prueba post-hoc de Tukey\n",
    "    tukey_results = pairwise_tukeyhsd(data['Rendimiento'], data['Fertilizante'])\n",
    "    print(\"\\nResultados de la prueba post-hoc de Tukey:\")\n",
    "    print(tukey_results)\n",
    "else:\n",
    "    print(\"No rechazamos la hipótesis nula: no hay diferencias significativas entre los grupos.\")\n",
    "\n"
   ]
  },
  {
   "cell_type": "markdown",
   "id": "d0ff5ac9",
   "metadata": {},
   "source": [
    "Conclusión General\n",
    "Todos los pares de grupos comparados (A vs B, A vs C, B vs C) muestran diferencias significativas en sus medias. Esto sugiere que los tratamientos o condiciones representados por los grupos A, B y C tienen efectos distintos en la variable medida."
   ]
  }
 ],
 "metadata": {
  "kernelspec": {
   "display_name": "Python 3",
   "language": "python",
   "name": "python3"
  },
  "language_info": {
   "codemirror_mode": {
    "name": "ipython",
    "version": 3
   },
   "file_extension": ".py",
   "mimetype": "text/x-python",
   "name": "python",
   "nbconvert_exporter": "python",
   "pygments_lexer": "ipython3",
   "version": "3.12.9"
  }
 },
 "nbformat": 4,
 "nbformat_minor": 5
}
